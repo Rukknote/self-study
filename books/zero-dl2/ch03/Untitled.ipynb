{
 "cells": [
  {
   "cell_type": "markdown",
   "id": "29ac0568-0dfd-4393-9e52-a1f63ffcc0c7",
   "metadata": {},
   "source": [
    "# 3章　word2vec"
   ]
  },
  {
   "cell_type": "markdown",
   "id": "371e561a-d7b0-47a3-a0d9-970fcd7d4110",
   "metadata": {},
   "source": [
    "## カウントベース手法の問題点"
   ]
  },
  {
   "cell_type": "markdown",
   "id": "8acbbd06-0a2d-4fc4-b5ed-68b93ac23a37",
   "metadata": {},
   "source": [
    "* 大規模なコーパスの場合、巨大な行列に対して特異値分解を行うと計算コストがかかる\n",
    "  * 例えば語彙数100万の場合に100万×100万の巨大な行列を作る必要がある"
   ]
  },
  {
   "cell_type": "markdown",
   "id": "6a73aa9a-cd70-41f6-afda-8ecf7e419de1",
   "metadata": {},
   "source": [
    "## 推論ベース"
   ]
  },
  {
   "cell_type": "markdown",
   "id": "7fea9c81-5c9b-46d1-97a6-1d862690f9c6",
   "metadata": {},
   "source": [
    "以下2つが推論ベースのメリット\n",
    "* ミニバッチ学習によって少量のサンプルで重みを繰り返し更新ができる\n",
    "* 複数マシン・GPUの利用で並列計算も可能"
   ]
  },
  {
   "cell_type": "code",
   "execution_count": null,
   "id": "fa094dcb-66c5-4e85-b0f9-c251303fbac6",
   "metadata": {},
   "outputs": [],
   "source": []
  }
 ],
 "metadata": {
  "kernelspec": {
   "display_name": "Python 3 (ipykernel)",
   "language": "python",
   "name": "python3"
  },
  "language_info": {
   "codemirror_mode": {
    "name": "ipython",
    "version": 3
   },
   "file_extension": ".py",
   "mimetype": "text/x-python",
   "name": "python",
   "nbconvert_exporter": "python",
   "pygments_lexer": "ipython3",
   "version": "3.10.9"
  }
 },
 "nbformat": 4,
 "nbformat_minor": 5
}
