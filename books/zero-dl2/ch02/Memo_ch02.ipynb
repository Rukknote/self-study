{
 "cells": [
  {
   "cell_type": "markdown",
   "id": "8b25fe49-1963-4f4b-b875-951ec090da32",
   "metadata": {},
   "source": [
    "# 2章　自然言語と単語の分散表現"
   ]
  },
  {
   "cell_type": "markdown",
   "id": "c14a60be-dbae-4a3f-9866-3bd2a8bcbb08",
   "metadata": {},
   "source": [
    "## 単語の意味を理解させる手法"
   ]
  },
  {
   "cell_type": "markdown",
   "id": "a3162745-2d2d-46fe-84bd-2147bab496cf",
   "metadata": {},
   "source": [
    "1. シソーラスによる手法：人の手によって作られる類語辞書\n",
    "2. カウントベースの手法：統計情報から単語を表現\n",
    "3. 推論ベースの手法（word2vec）：ニューラルネットワークによる推論"
   ]
  },
  {
   "cell_type": "markdown",
   "id": "cca39a43-a60d-4d95-b8bb-e00f4faef6f5",
   "metadata": {},
   "source": [
    "## シソーラス"
   ]
  },
  {
   "cell_type": "code",
   "execution_count": null,
   "id": "316b35bd-e161-4a04-8d9c-0eb05d50f32e",
   "metadata": {},
   "outputs": [],
   "source": []
  }
 ],
 "metadata": {
  "kernelspec": {
   "display_name": "Python 3 (ipykernel)",
   "language": "python",
   "name": "python3"
  },
  "language_info": {
   "codemirror_mode": {
    "name": "ipython",
    "version": 3
   },
   "file_extension": ".py",
   "mimetype": "text/x-python",
   "name": "python",
   "nbconvert_exporter": "python",
   "pygments_lexer": "ipython3",
   "version": "3.10.9"
  }
 },
 "nbformat": 4,
 "nbformat_minor": 5
}
